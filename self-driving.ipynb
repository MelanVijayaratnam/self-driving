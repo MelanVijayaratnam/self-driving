{
 "cells": [
  {
   "cell_type": "markdown",
   "metadata": {},
   "source": [
    "<h1 style=\"text-align:center\"> Self Driving Car </h1>"
   ]
  },
  {
   "cell_type": "markdown",
   "metadata": {},
   "source": [
    "<h3>Introduction</h3>"
   ]
  },
  {
   "cell_type": "markdown",
   "metadata": {},
   "source": [
    "In this project, I will show how to program a self-driving car using <b>Deep Learning</b>, that is to say, steering of the car will not involve human intervention. <br> \n",
    "For that we are going to use Udacity's simulator which was built using <a href=\"https://unity3d.com/fr\"> Unity</a>.<br>\n",
    "For those interested, the link for the simulator is the following one : <a href=\"https://github.com/udacity/self-driving-car-sim\">Car simulator </a>"
   ]
  },
  {
   "cell_type": "markdown",
   "metadata": {},
   "source": [
    "<img src=\"sim_image.png\" alt=\"Udacity simulator\" width=\"75%\" height=\"75%\">"
   ]
  },
  {
   "cell_type": "markdown",
   "metadata": {},
   "source": [
    "<h3>Importing libraries</h3>"
   ]
  },
  {
   "cell_type": "code",
   "execution_count": 19,
   "metadata": {
    "collapsed": true
   },
   "outputs": [],
   "source": [
    "import os\n",
    "\n",
    "import pandas as pd\n",
    "import numpy as np\n",
    "\n",
    "from sklearn.model_selection import train_test_split"
   ]
  },
  {
   "cell_type": "markdown",
   "metadata": {},
   "source": [
    "<h3>Loading data generated</h3>"
   ]
  },
  {
   "cell_type": "code",
   "execution_count": 14,
   "metadata": {
    "collapsed": true
   },
   "outputs": [],
   "source": [
    "DATA_PATH = \"car_data/\"\n",
    "\n",
    "def fetch_data(data_path=DATA_PATH):\n",
    "    try:\n",
    "        names = ['center', 'left', 'right', \n",
    "                 'steering angle', 'speed', 'brake', 'throttle'] \n",
    "        csv_path = os.path.join(DATA_PATH, \"driving_log.csv\")\n",
    "        data = pd.read_csv(csv_path, names=names)\n",
    "    except:\n",
    "        print(\"Could not find csv file\")\n",
    "    \n",
    "    return data\n"
   ]
  },
  {
   "cell_type": "code",
   "execution_count": 17,
   "metadata": {
    "scrolled": true
   },
   "outputs": [
    {
     "data": {
      "text/html": [
       "<div>\n",
       "<style>\n",
       "    .dataframe thead tr:only-child th {\n",
       "        text-align: right;\n",
       "    }\n",
       "\n",
       "    .dataframe thead th {\n",
       "        text-align: left;\n",
       "    }\n",
       "\n",
       "    .dataframe tbody tr th {\n",
       "        vertical-align: top;\n",
       "    }\n",
       "</style>\n",
       "<table border=\"1\" class=\"dataframe\">\n",
       "  <thead>\n",
       "    <tr style=\"text-align: right;\">\n",
       "      <th></th>\n",
       "      <th>center</th>\n",
       "      <th>left</th>\n",
       "      <th>right</th>\n",
       "      <th>steering angle</th>\n",
       "      <th>speed</th>\n",
       "      <th>brake</th>\n",
       "      <th>throttle</th>\n",
       "    </tr>\n",
       "  </thead>\n",
       "  <tbody>\n",
       "    <tr>\n",
       "      <th>0</th>\n",
       "      <td>C:\\Users\\Melan\\Desktop\\car-sim\\Car_project\\car...</td>\n",
       "      <td>C:\\Users\\Melan\\Desktop\\car-sim\\Car_project\\car...</td>\n",
       "      <td>C:\\Users\\Melan\\Desktop\\car-sim\\Car_project\\car...</td>\n",
       "      <td>0.0</td>\n",
       "      <td>1</td>\n",
       "      <td>0</td>\n",
       "      <td>6.695884</td>\n",
       "    </tr>\n",
       "    <tr>\n",
       "      <th>1</th>\n",
       "      <td>C:\\Users\\Melan\\Desktop\\car-sim\\Car_project\\car...</td>\n",
       "      <td>C:\\Users\\Melan\\Desktop\\car-sim\\Car_project\\car...</td>\n",
       "      <td>C:\\Users\\Melan\\Desktop\\car-sim\\Car_project\\car...</td>\n",
       "      <td>0.0</td>\n",
       "      <td>1</td>\n",
       "      <td>0</td>\n",
       "      <td>8.739202</td>\n",
       "    </tr>\n",
       "    <tr>\n",
       "      <th>2</th>\n",
       "      <td>C:\\Users\\Melan\\Desktop\\car-sim\\Car_project\\car...</td>\n",
       "      <td>C:\\Users\\Melan\\Desktop\\car-sim\\Car_project\\car...</td>\n",
       "      <td>C:\\Users\\Melan\\Desktop\\car-sim\\Car_project\\car...</td>\n",
       "      <td>-0.1</td>\n",
       "      <td>1</td>\n",
       "      <td>0</td>\n",
       "      <td>9.633597</td>\n",
       "    </tr>\n",
       "    <tr>\n",
       "      <th>3</th>\n",
       "      <td>C:\\Users\\Melan\\Desktop\\car-sim\\Car_project\\car...</td>\n",
       "      <td>C:\\Users\\Melan\\Desktop\\car-sim\\Car_project\\car...</td>\n",
       "      <td>C:\\Users\\Melan\\Desktop\\car-sim\\Car_project\\car...</td>\n",
       "      <td>-0.3</td>\n",
       "      <td>1</td>\n",
       "      <td>0</td>\n",
       "      <td>10.497940</td>\n",
       "    </tr>\n",
       "    <tr>\n",
       "      <th>4</th>\n",
       "      <td>C:\\Users\\Melan\\Desktop\\car-sim\\Car_project\\car...</td>\n",
       "      <td>C:\\Users\\Melan\\Desktop\\car-sim\\Car_project\\car...</td>\n",
       "      <td>C:\\Users\\Melan\\Desktop\\car-sim\\Car_project\\car...</td>\n",
       "      <td>-0.5</td>\n",
       "      <td>1</td>\n",
       "      <td>0</td>\n",
       "      <td>11.323150</td>\n",
       "    </tr>\n",
       "  </tbody>\n",
       "</table>\n",
       "</div>"
      ],
      "text/plain": [
       "                                              center  \\\n",
       "0  C:\\Users\\Melan\\Desktop\\car-sim\\Car_project\\car...   \n",
       "1  C:\\Users\\Melan\\Desktop\\car-sim\\Car_project\\car...   \n",
       "2  C:\\Users\\Melan\\Desktop\\car-sim\\Car_project\\car...   \n",
       "3  C:\\Users\\Melan\\Desktop\\car-sim\\Car_project\\car...   \n",
       "4  C:\\Users\\Melan\\Desktop\\car-sim\\Car_project\\car...   \n",
       "\n",
       "                                                left  \\\n",
       "0  C:\\Users\\Melan\\Desktop\\car-sim\\Car_project\\car...   \n",
       "1  C:\\Users\\Melan\\Desktop\\car-sim\\Car_project\\car...   \n",
       "2  C:\\Users\\Melan\\Desktop\\car-sim\\Car_project\\car...   \n",
       "3  C:\\Users\\Melan\\Desktop\\car-sim\\Car_project\\car...   \n",
       "4  C:\\Users\\Melan\\Desktop\\car-sim\\Car_project\\car...   \n",
       "\n",
       "                                               right  steering angle  speed  \\\n",
       "0  C:\\Users\\Melan\\Desktop\\car-sim\\Car_project\\car...             0.0      1   \n",
       "1  C:\\Users\\Melan\\Desktop\\car-sim\\Car_project\\car...             0.0      1   \n",
       "2  C:\\Users\\Melan\\Desktop\\car-sim\\Car_project\\car...            -0.1      1   \n",
       "3  C:\\Users\\Melan\\Desktop\\car-sim\\Car_project\\car...            -0.3      1   \n",
       "4  C:\\Users\\Melan\\Desktop\\car-sim\\Car_project\\car...            -0.5      1   \n",
       "\n",
       "   brake   throttle  \n",
       "0      0   6.695884  \n",
       "1      0   8.739202  \n",
       "2      0   9.633597  \n",
       "3      0  10.497940  \n",
       "4      0  11.323150  "
      ]
     },
     "execution_count": 17,
     "metadata": {},
     "output_type": "execute_result"
    }
   ],
   "source": [
    "data = fetch_data()\n",
    "data.head()"
   ]
  },
  {
   "cell_type": "markdown",
   "metadata": {},
   "source": [
    "Now we will split the data into the X features and Y labels (steering angle) and\n",
    "return the train and validation set"
   ]
  },
  {
   "cell_type": "code",
   "execution_count": 35,
   "metadata": {
    "collapsed": true
   },
   "outputs": [],
   "source": [
    "def split_train_validation(data, valid_ratio):\n",
    "    # We store the camerage images as our input data\n",
    "    X = data[['center', 'left', 'right']].values\n",
    "    # Steering angle is what we want to predict\n",
    "    y = data['steering angle'].values\n",
    "    \n",
    "    # Split into training/test set \n",
    "    X_train, X_valid, y_train, y_valid = train_test_split(X, y, test_size=0.2, random_state=42)\n",
    "    \n",
    "    return X_train, X_valid, y_train, y_valid"
   ]
  },
  {
   "cell_type": "code",
   "execution_count": 36,
   "metadata": {},
   "outputs": [
    {
     "name": "stdout",
     "output_type": "stream",
     "text": [
      "X_train.shape: (78, 3) ; X_valid.shape: (20, 3)\n",
      "y_train.shape: (78,) ; y_valid.shape: (20,)\n"
     ]
    }
   ],
   "source": [
    "X_train, X_valid, y_train, y_valid = split_train_validation(data, 0.2)\n",
    "print(\"X_train.shape:\", X_train.shape, \"; X_valid.shape:\", X_valid.shape)\n",
    "print(\"y_train.shape:\", y_train.shape, \"; y_valid.shape:\", y_valid.shape)"
   ]
  },
  {
   "cell_type": "code",
   "execution_count": null,
   "metadata": {
    "collapsed": true
   },
   "outputs": [],
   "source": []
  }
 ],
 "metadata": {
  "kernelspec": {
   "display_name": "Python 3",
   "language": "python",
   "name": "python3"
  },
  "language_info": {
   "codemirror_mode": {
    "name": "ipython",
    "version": 3
   },
   "file_extension": ".py",
   "mimetype": "text/x-python",
   "name": "python",
   "nbconvert_exporter": "python",
   "pygments_lexer": "ipython3",
   "version": "3.6.2"
  }
 },
 "nbformat": 4,
 "nbformat_minor": 2
}
